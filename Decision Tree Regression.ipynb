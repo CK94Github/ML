{
 "cells": [
  {
   "cell_type": "code",
   "execution_count": null,
   "id": "efdb743d",
   "metadata": {},
   "outputs": [],
   "source": [
    "import pandas as pd\n",
    "\n",
    "df = pd.read_csv('regression.csv')\n",
    "df.head()"
   ]
  },
  {
   "cell_type": "code",
   "execution_count": null,
   "id": "b573b9f9",
   "metadata": {},
   "outputs": [],
   "source": [
    "df.isna().sum()"
   ]
  },
  {
   "cell_type": "code",
   "execution_count": null,
   "id": "f69b72cc",
   "metadata": {},
   "outputs": [],
   "source": [
    "df.shape"
   ]
  },
  {
   "cell_type": "code",
   "execution_count": null,
   "id": "bd2e4eae",
   "metadata": {},
   "outputs": [],
   "source": [
    "df.dropna(axis=0, inplace=True)\n",
    "df.isna().sum()"
   ]
  },
  {
   "cell_type": "code",
   "execution_count": null,
   "id": "461a921e",
   "metadata": {},
   "outputs": [],
   "source": [
    "x = df.drop('Sales', axis=1)\n",
    "y = df['Sales']"
   ]
  },
  {
   "cell_type": "code",
   "execution_count": null,
   "id": "80b3fe33",
   "metadata": {},
   "outputs": [],
   "source": [
    "x.dtypes"
   ]
  },
  {
   "cell_type": "code",
   "execution_count": null,
   "id": "0da137ac",
   "metadata": {},
   "outputs": [],
   "source": [
    "from sklearn.preprocessing import LabelEncoder\n",
    "\n",
    "le = LabelEncoder()\n",
    "x['Influencer'] = le.fit_transform(x['Influencer'])\n",
    "x.dtypes"
   ]
  },
  {
   "cell_type": "code",
   "execution_count": null,
   "id": "8cecc36e",
   "metadata": {},
   "outputs": [],
   "source": [
    "from sklearn.model_selection import train_test_split\n",
    "\n",
    "xtrain, xtest, ytrain, ytest = train_test_split(x,y,\n",
    "                                train_size=0.8, \n",
    "                                random_state=101)"
   ]
  },
  {
   "cell_type": "code",
   "execution_count": null,
   "id": "22cd8a22",
   "metadata": {},
   "outputs": [],
   "source": [
    "from sklearn.tree import DecisionTreeRegressor\n",
    "\n",
    "model = DecisionTreeRegressor(max_depth=10)\n",
    "model.fit(xtrain, ytrain)\n",
    "trainpred = model.predict(xtrain)\n",
    "trainpred[:5]"
   ]
  },
  {
   "cell_type": "code",
   "execution_count": null,
   "id": "89893efa",
   "metadata": {},
   "outputs": [],
   "source": [
    "from sklearn.metrics import mean_squared_error\n",
    "\n",
    "mse = mean_squared_error(ytrain, trainpred)\n",
    "mse"
   ]
  },
  {
   "cell_type": "code",
   "execution_count": null,
   "id": "79b2c3f4",
   "metadata": {},
   "outputs": [],
   "source": [
    "testpred = model.predict(xtest)\n",
    "testpred[:5]"
   ]
  },
  {
   "cell_type": "code",
   "execution_count": null,
   "id": "85ed34eb",
   "metadata": {},
   "outputs": [],
   "source": [
    "mse = mean_squared_error(ytest, testpred)\n",
    "mse"
   ]
  },
  {
   "cell_type": "code",
   "execution_count": null,
   "id": "062c2afd",
   "metadata": {},
   "outputs": [],
   "source": [
    "from sklearn.tree import plot_tree\n",
    "import matplotlib.pyplot as plt\n",
    "\n",
    "plot_tree(model)\n",
    "plt.show()"
   ]
  },
  {
   "cell_type": "code",
   "execution_count": null,
   "id": "0e433ae2",
   "metadata": {},
   "outputs": [],
   "source": [
    "from sklearn.ensemble import RandomForestRegressor\n",
    "\n",
    "rf = RandomForestRegressor()\n",
    "rf.fit(xtrain, ytrain)\n",
    "trainpred = rf.predict(xtrain)\n",
    "trainpred[:5]"
   ]
  },
  {
   "cell_type": "code",
   "execution_count": null,
   "id": "e810d196",
   "metadata": {},
   "outputs": [],
   "source": [
    "mse = mean_squared_error(ytrain, trainpred)\n",
    "mse"
   ]
  },
  {
   "cell_type": "code",
   "execution_count": null,
   "id": "a4b35dfb",
   "metadata": {},
   "outputs": [],
   "source": [
    "testpred = rf.predict(xtest)\n",
    "testpred[:5]"
   ]
  },
  {
   "cell_type": "code",
   "execution_count": null,
   "id": "6047b739",
   "metadata": {},
   "outputs": [],
   "source": [
    "mse = mean_squared_error(ytest, testpred)\n",
    "mse"
   ]
  },
  {
   "cell_type": "code",
   "execution_count": null,
   "id": "063df80f",
   "metadata": {},
   "outputs": [],
   "source": []
  }
 ],
 "metadata": {
  "kernelspec": {
   "display_name": "Python 3 (ipykernel)",
   "language": "python",
   "name": "python3"
  },
  "language_info": {
   "codemirror_mode": {
    "name": "ipython",
    "version": 3
   },
   "file_extension": ".py",
   "mimetype": "text/x-python",
   "name": "python",
   "nbconvert_exporter": "python",
   "pygments_lexer": "ipython3",
   "version": "3.9.13"
  }
 },
 "nbformat": 4,
 "nbformat_minor": 5
}
