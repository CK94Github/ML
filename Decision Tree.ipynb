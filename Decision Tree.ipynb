{
 "cells": [
  {
   "cell_type": "code",
   "execution_count": null,
   "id": "cfbcebe3",
   "metadata": {},
   "outputs": [],
   "source": [
    "import pandas as pd\n",
    "\n",
    "df = pd.read_csv('decisiontree.csv')\n",
    "df.head()"
   ]
  },
  {
   "cell_type": "code",
   "execution_count": null,
   "id": "a4759a99",
   "metadata": {},
   "outputs": [],
   "source": [
    "df.isna().sum()"
   ]
  },
  {
   "cell_type": "code",
   "execution_count": null,
   "id": "d323950b",
   "metadata": {},
   "outputs": [],
   "source": [
    "x = df.drop(columns='Heart Disease', axis=1)\n",
    "y = df['Heart Disease']"
   ]
  },
  {
   "cell_type": "code",
   "execution_count": null,
   "id": "3544ee3b",
   "metadata": {},
   "outputs": [],
   "source": [
    "from sklearn.preprocessing import LabelEncoder\n",
    "\n",
    "le = LabelEncoder()\n",
    "y = le.fit_transform(y)"
   ]
  },
  {
   "cell_type": "code",
   "execution_count": null,
   "id": "473c9d8c",
   "metadata": {},
   "outputs": [],
   "source": [
    "y[:5]\n",
    "# Absence = 0 , Presence = 1"
   ]
  },
  {
   "cell_type": "code",
   "execution_count": null,
   "id": "e867ffc3",
   "metadata": {},
   "outputs": [],
   "source": [
    "from sklearn.model_selection import train_test_split\n",
    "\n",
    "xtrain, xtest, ytrain, ytest = train_test_split(x,y,\n",
    "                            train_size=0.8, \n",
    "                            random_state=4)"
   ]
  },
  {
   "cell_type": "code",
   "execution_count": null,
   "id": "db5a75bb",
   "metadata": {},
   "outputs": [],
   "source": [
    "from sklearn.tree import DecisionTreeClassifier\n",
    "\n",
    "model = DecisionTreeClassifier()\n",
    "model.fit(xtrain, ytrain)\n",
    "trainpred = model.predict(xtrain)\n",
    "trainpred[:5]"
   ]
  },
  {
   "cell_type": "code",
   "execution_count": null,
   "id": "da9fa44c",
   "metadata": {},
   "outputs": [],
   "source": [
    "from sklearn.metrics import classification_report\n",
    "\n",
    "print(classification_report(ytrain, trainpred))"
   ]
  },
  {
   "cell_type": "code",
   "execution_count": null,
   "id": "5e73a2c0",
   "metadata": {},
   "outputs": [],
   "source": [
    "testpred = model.predict(xtest)\n",
    "testpred[:5]"
   ]
  },
  {
   "cell_type": "code",
   "execution_count": null,
   "id": "758964a1",
   "metadata": {},
   "outputs": [],
   "source": [
    "print(classification_report(ytest, testpred))"
   ]
  },
  {
   "cell_type": "code",
   "execution_count": null,
   "id": "1c46b5a0",
   "metadata": {},
   "outputs": [],
   "source": [
    "from sklearn.tree import plot_tree\n",
    "import matplotlib.pyplot as plt\n",
    "\n",
    "plot_tree(model)\n",
    "plt.show()"
   ]
  },
  {
   "cell_type": "code",
   "execution_count": null,
   "id": "6285a95d",
   "metadata": {},
   "outputs": [],
   "source": [
    "from sklearn.ensemble import RandomForestClassifier\n",
    "\n",
    "rf = RandomForestClassifier()\n",
    "rf.fit(xtrain, ytrain)\n",
    "trainpred = rf.predict(xtrain)\n",
    "trainpred[:5]"
   ]
  },
  {
   "cell_type": "code",
   "execution_count": null,
   "id": "64ed6b72",
   "metadata": {},
   "outputs": [],
   "source": [
    "model.predict_proba(xtrain)"
   ]
  },
  {
   "cell_type": "code",
   "execution_count": null,
   "id": "4736d92a",
   "metadata": {},
   "outputs": [],
   "source": [
    "print(classification_report(ytrain, trainpred))"
   ]
  },
  {
   "cell_type": "code",
   "execution_count": null,
   "id": "b3a4e767",
   "metadata": {},
   "outputs": [],
   "source": [
    "testpred = rf.predict(xtest)\n",
    "print(classification_report(ytest, testpred))"
   ]
  },
  {
   "cell_type": "code",
   "execution_count": null,
   "id": "90197012",
   "metadata": {},
   "outputs": [],
   "source": []
  }
 ],
 "metadata": {
  "kernelspec": {
   "display_name": "Python 3 (ipykernel)",
   "language": "python",
   "name": "python3"
  },
  "language_info": {
   "codemirror_mode": {
    "name": "ipython",
    "version": 3
   },
   "file_extension": ".py",
   "mimetype": "text/x-python",
   "name": "python",
   "nbconvert_exporter": "python",
   "pygments_lexer": "ipython3",
   "version": "3.9.13"
  }
 },
 "nbformat": 4,
 "nbformat_minor": 5
}
